{
  "nbformat": 4,
  "nbformat_minor": 0,
  "metadata": {
    "colab": {
      "name": "Clustering.ipynb",
      "provenance": [],
      "collapsed_sections": []
    },
    "kernelspec": {
      "name": "python3",
      "display_name": "Python 3"
    },
    "language_info": {
      "name": "python"
    }
  },
  "cells": [
    {
      "cell_type": "markdown",
      "source": [
        "# Problem : Cluster the diamonds as per their properties\n",
        "\n",
        "Data link : https://www.kaggle.com/shivam2503/diamonds"
      ],
      "metadata": {
        "id": "Y_Y5UwiEZPPZ"
      }
    },
    {
      "cell_type": "markdown",
      "source": [
        "# Data Description\n",
        "\n",
        "price price in US dollars (\\$326--\\$18,823)\n",
        "\n",
        "carat weight of the diamond (0.2--5.01)\n",
        "\n",
        "cut quality of the cut (Fair, Good, Very Good, Premium, Ideal)\n",
        "\n",
        "color diamond colour, from J (worst) to D (best)\n",
        "\n",
        "clarity a measurement of how clear the diamond is (I1 (worst), SI2, SI1, VS2, VS1, VVS2, VVS1, IF (best))\n",
        "\n",
        "x length in mm (0--10.74)\n",
        "\n",
        "y width in mm (0--58.9)\n",
        "\n",
        "z depth in mm (0--31.8)\n",
        "\n",
        "depth total depth percentage = z / mean(x, y) = 2 * z / (x + y) (43--79)\n",
        "\n",
        "table width of top of diamond relative to widest point (43--95)"
      ],
      "metadata": {
        "id": "ul0OU2SCZMHP"
      }
    },
    {
      "cell_type": "markdown",
      "source": [
        "# Load the Data"
      ],
      "metadata": {
        "id": "xpwmLfnyYaq2"
      }
    },
    {
      "cell_type": "code",
      "source": [
        "import pandas as pd\n",
        "data = pd.read_csv(\"/content/diamonds.csv\")"
      ],
      "metadata": {
        "id": "cZt2ZOBpWvyH"
      },
      "execution_count": null,
      "outputs": []
    },
    {
      "cell_type": "code",
      "source": [
        "data.shape"
      ],
      "metadata": {
        "colab": {
          "base_uri": "https://localhost:8080/"
        },
        "id": "5d0Y58FVW-Wx",
        "outputId": "7b470931-b678-4ea0-d1f4-7d2d12a7f0b5"
      },
      "execution_count": null,
      "outputs": [
        {
          "output_type": "execute_result",
          "data": {
            "text/plain": [
              "(53940, 11)"
            ]
          },
          "metadata": {},
          "execution_count": 38
        }
      ]
    },
    {
      "cell_type": "code",
      "source": [
        "data.head()"
      ],
      "metadata": {
        "colab": {
          "base_uri": "https://localhost:8080/",
          "height": 206
        },
        "id": "gfWQ3iqCW_Ly",
        "outputId": "3d655ce7-6c87-49d5-f733-7baa93bde4fe"
      },
      "execution_count": null,
      "outputs": [
        {
          "output_type": "execute_result",
          "data": {
            "text/html": [
              "\n",
              "  <div id=\"df-a109ce36-7451-42f5-95e9-00b780367da4\">\n",
              "    <div class=\"colab-df-container\">\n",
              "      <div>\n",
              "<style scoped>\n",
              "    .dataframe tbody tr th:only-of-type {\n",
              "        vertical-align: middle;\n",
              "    }\n",
              "\n",
              "    .dataframe tbody tr th {\n",
              "        vertical-align: top;\n",
              "    }\n",
              "\n",
              "    .dataframe thead th {\n",
              "        text-align: right;\n",
              "    }\n",
              "</style>\n",
              "<table border=\"1\" class=\"dataframe\">\n",
              "  <thead>\n",
              "    <tr style=\"text-align: right;\">\n",
              "      <th></th>\n",
              "      <th>carat</th>\n",
              "      <th>cut</th>\n",
              "      <th>color</th>\n",
              "      <th>clarity</th>\n",
              "      <th>depth</th>\n",
              "      <th>table</th>\n",
              "      <th>price</th>\n",
              "      <th>x</th>\n",
              "      <th>y</th>\n",
              "      <th>z</th>\n",
              "    </tr>\n",
              "  </thead>\n",
              "  <tbody>\n",
              "    <tr>\n",
              "      <th>0</th>\n",
              "      <td>0.23</td>\n",
              "      <td>Ideal</td>\n",
              "      <td>E</td>\n",
              "      <td>SI2</td>\n",
              "      <td>61.5</td>\n",
              "      <td>55.0</td>\n",
              "      <td>326</td>\n",
              "      <td>3.95</td>\n",
              "      <td>3.98</td>\n",
              "      <td>2.43</td>\n",
              "    </tr>\n",
              "    <tr>\n",
              "      <th>1</th>\n",
              "      <td>0.21</td>\n",
              "      <td>Premium</td>\n",
              "      <td>E</td>\n",
              "      <td>SI1</td>\n",
              "      <td>59.8</td>\n",
              "      <td>61.0</td>\n",
              "      <td>326</td>\n",
              "      <td>3.89</td>\n",
              "      <td>3.84</td>\n",
              "      <td>2.31</td>\n",
              "    </tr>\n",
              "    <tr>\n",
              "      <th>2</th>\n",
              "      <td>0.23</td>\n",
              "      <td>Good</td>\n",
              "      <td>E</td>\n",
              "      <td>VS1</td>\n",
              "      <td>56.9</td>\n",
              "      <td>65.0</td>\n",
              "      <td>327</td>\n",
              "      <td>4.05</td>\n",
              "      <td>4.07</td>\n",
              "      <td>2.31</td>\n",
              "    </tr>\n",
              "    <tr>\n",
              "      <th>3</th>\n",
              "      <td>0.29</td>\n",
              "      <td>Premium</td>\n",
              "      <td>I</td>\n",
              "      <td>VS2</td>\n",
              "      <td>62.4</td>\n",
              "      <td>58.0</td>\n",
              "      <td>334</td>\n",
              "      <td>4.20</td>\n",
              "      <td>4.23</td>\n",
              "      <td>2.63</td>\n",
              "    </tr>\n",
              "    <tr>\n",
              "      <th>4</th>\n",
              "      <td>0.31</td>\n",
              "      <td>Good</td>\n",
              "      <td>J</td>\n",
              "      <td>SI2</td>\n",
              "      <td>63.3</td>\n",
              "      <td>58.0</td>\n",
              "      <td>335</td>\n",
              "      <td>4.34</td>\n",
              "      <td>4.35</td>\n",
              "      <td>2.75</td>\n",
              "    </tr>\n",
              "  </tbody>\n",
              "</table>\n",
              "</div>\n",
              "      <button class=\"colab-df-convert\" onclick=\"convertToInteractive('df-a109ce36-7451-42f5-95e9-00b780367da4')\"\n",
              "              title=\"Convert this dataframe to an interactive table.\"\n",
              "              style=\"display:none;\">\n",
              "        \n",
              "  <svg xmlns=\"http://www.w3.org/2000/svg\" height=\"24px\"viewBox=\"0 0 24 24\"\n",
              "       width=\"24px\">\n",
              "    <path d=\"M0 0h24v24H0V0z\" fill=\"none\"/>\n",
              "    <path d=\"M18.56 5.44l.94 2.06.94-2.06 2.06-.94-2.06-.94-.94-2.06-.94 2.06-2.06.94zm-11 1L8.5 8.5l.94-2.06 2.06-.94-2.06-.94L8.5 2.5l-.94 2.06-2.06.94zm10 10l.94 2.06.94-2.06 2.06-.94-2.06-.94-.94-2.06-.94 2.06-2.06.94z\"/><path d=\"M17.41 7.96l-1.37-1.37c-.4-.4-.92-.59-1.43-.59-.52 0-1.04.2-1.43.59L10.3 9.45l-7.72 7.72c-.78.78-.78 2.05 0 2.83L4 21.41c.39.39.9.59 1.41.59.51 0 1.02-.2 1.41-.59l7.78-7.78 2.81-2.81c.8-.78.8-2.07 0-2.86zM5.41 20L4 18.59l7.72-7.72 1.47 1.35L5.41 20z\"/>\n",
              "  </svg>\n",
              "      </button>\n",
              "      \n",
              "  <style>\n",
              "    .colab-df-container {\n",
              "      display:flex;\n",
              "      flex-wrap:wrap;\n",
              "      gap: 12px;\n",
              "    }\n",
              "\n",
              "    .colab-df-convert {\n",
              "      background-color: #E8F0FE;\n",
              "      border: none;\n",
              "      border-radius: 50%;\n",
              "      cursor: pointer;\n",
              "      display: none;\n",
              "      fill: #1967D2;\n",
              "      height: 32px;\n",
              "      padding: 0 0 0 0;\n",
              "      width: 32px;\n",
              "    }\n",
              "\n",
              "    .colab-df-convert:hover {\n",
              "      background-color: #E2EBFA;\n",
              "      box-shadow: 0px 1px 2px rgba(60, 64, 67, 0.3), 0px 1px 3px 1px rgba(60, 64, 67, 0.15);\n",
              "      fill: #174EA6;\n",
              "    }\n",
              "\n",
              "    [theme=dark] .colab-df-convert {\n",
              "      background-color: #3B4455;\n",
              "      fill: #D2E3FC;\n",
              "    }\n",
              "\n",
              "    [theme=dark] .colab-df-convert:hover {\n",
              "      background-color: #434B5C;\n",
              "      box-shadow: 0px 1px 3px 1px rgba(0, 0, 0, 0.15);\n",
              "      filter: drop-shadow(0px 1px 2px rgba(0, 0, 0, 0.3));\n",
              "      fill: #FFFFFF;\n",
              "    }\n",
              "  </style>\n",
              "\n",
              "      <script>\n",
              "        const buttonEl =\n",
              "          document.querySelector('#df-a109ce36-7451-42f5-95e9-00b780367da4 button.colab-df-convert');\n",
              "        buttonEl.style.display =\n",
              "          google.colab.kernel.accessAllowed ? 'block' : 'none';\n",
              "\n",
              "        async function convertToInteractive(key) {\n",
              "          const element = document.querySelector('#df-a109ce36-7451-42f5-95e9-00b780367da4');\n",
              "          const dataTable =\n",
              "            await google.colab.kernel.invokeFunction('convertToInteractive',\n",
              "                                                     [key], {});\n",
              "          if (!dataTable) return;\n",
              "\n",
              "          const docLinkHtml = 'Like what you see? Visit the ' +\n",
              "            '<a target=\"_blank\" href=https://colab.research.google.com/notebooks/data_table.ipynb>data table notebook</a>'\n",
              "            + ' to learn more about interactive tables.';\n",
              "          element.innerHTML = '';\n",
              "          dataTable['output_type'] = 'display_data';\n",
              "          await google.colab.output.renderOutput(dataTable, element);\n",
              "          const docLink = document.createElement('div');\n",
              "          docLink.innerHTML = docLinkHtml;\n",
              "          element.appendChild(docLink);\n",
              "        }\n",
              "      </script>\n",
              "    </div>\n",
              "  </div>\n",
              "  "
            ],
            "text/plain": [
              "   carat      cut color clarity  depth  table  price     x     y     z\n",
              "0   0.23    Ideal     E     SI2   61.5   55.0    326  3.95  3.98  2.43\n",
              "1   0.21  Premium     E     SI1   59.8   61.0    326  3.89  3.84  2.31\n",
              "2   0.23     Good     E     VS1   56.9   65.0    327  4.05  4.07  2.31\n",
              "3   0.29  Premium     I     VS2   62.4   58.0    334  4.20  4.23  2.63\n",
              "4   0.31     Good     J     SI2   63.3   58.0    335  4.34  4.35  2.75"
            ]
          },
          "metadata": {},
          "execution_count": 4
        }
      ]
    },
    {
      "cell_type": "code",
      "source": [
        "cat_columns = data.select_dtypes(include = \"object\").columns\n",
        "cat_columns"
      ],
      "metadata": {
        "colab": {
          "base_uri": "https://localhost:8080/"
        },
        "id": "m3HZZn5ibP5Q",
        "outputId": "d50defed-def9-4e09-9af9-678c2aed86e7"
      },
      "execution_count": null,
      "outputs": [
        {
          "output_type": "execute_result",
          "data": {
            "text/plain": [
              "Index(['cut', 'color', 'clarity'], dtype='object')"
            ]
          },
          "metadata": {},
          "execution_count": 5
        }
      ]
    },
    {
      "cell_type": "code",
      "source": [
        "num_columns = data.select_dtypes(exclude = \"object\").columns\n",
        "num_columns"
      ],
      "metadata": {
        "colab": {
          "base_uri": "https://localhost:8080/"
        },
        "id": "7MLsxdzuhx3x",
        "outputId": "a6414d0b-fb7c-47fa-df93-49b85fa81384"
      },
      "execution_count": null,
      "outputs": [
        {
          "output_type": "execute_result",
          "data": {
            "text/plain": [
              "Index(['carat', 'depth', 'table', 'price', 'x', 'y', 'z'], dtype='object')"
            ]
          },
          "metadata": {},
          "execution_count": 6
        }
      ]
    },
    {
      "cell_type": "markdown",
      "source": [
        "# Train Test Split"
      ],
      "metadata": {
        "id": "mSuLIwNnYYMH"
      }
    },
    {
      "cell_type": "code",
      "source": [
        "from sklearn.model_selection import train_test_split\n",
        "X_train, X_test = train_test_split(data, test_size=0.3, random_state=7)#,stratify=None)"
      ],
      "metadata": {
        "id": "9dRIxOrVXBOc"
      },
      "execution_count": null,
      "outputs": []
    },
    {
      "cell_type": "code",
      "source": [
        "X_train.shape, X_test.shape"
      ],
      "metadata": {
        "colab": {
          "base_uri": "https://localhost:8080/"
        },
        "id": "qngYLh3dX888",
        "outputId": "54930050-f7e6-4b83-a5c7-d2659d4777a4"
      },
      "execution_count": null,
      "outputs": [
        {
          "output_type": "execute_result",
          "data": {
            "text/plain": [
              "((37758, 11), (16182, 11))"
            ]
          },
          "metadata": {},
          "execution_count": 40
        }
      ]
    },
    {
      "cell_type": "markdown",
      "source": [
        "# Preprocess"
      ],
      "metadata": {
        "id": "GAHaoRagYgfo"
      }
    },
    {
      "cell_type": "markdown",
      "source": [
        "## Check missing values"
      ],
      "metadata": {
        "id": "fclqrA0jYnC4"
      }
    },
    {
      "cell_type": "code",
      "source": [
        "X_train.isnull().sum()"
      ],
      "metadata": {
        "colab": {
          "base_uri": "https://localhost:8080/"
        },
        "id": "2w4U68dRYPg0",
        "outputId": "ca9d8af2-db1a-47d8-a4ce-7b5f6da24614"
      },
      "execution_count": null,
      "outputs": [
        {
          "output_type": "execute_result",
          "data": {
            "text/plain": [
              "carat      0\n",
              "cut        0\n",
              "color      0\n",
              "clarity    0\n",
              "depth      0\n",
              "table      0\n",
              "price      0\n",
              "x          0\n",
              "y          0\n",
              "z          0\n",
              "dtype: int64"
            ]
          },
          "metadata": {},
          "execution_count": 10
        }
      ]
    },
    {
      "cell_type": "code",
      "source": [
        "X_test.isnull().sum()"
      ],
      "metadata": {
        "colab": {
          "base_uri": "https://localhost:8080/"
        },
        "id": "Pa7ITlCdYrTg",
        "outputId": "95c6e813-7268-419b-d531-5e8674a567c2"
      },
      "execution_count": null,
      "outputs": [
        {
          "output_type": "execute_result",
          "data": {
            "text/plain": [
              "carat      0\n",
              "cut        0\n",
              "color      0\n",
              "clarity    0\n",
              "depth      0\n",
              "table      0\n",
              "price      0\n",
              "x          0\n",
              "y          0\n",
              "z          0\n",
              "dtype: int64"
            ]
          },
          "metadata": {},
          "execution_count": 11
        }
      ]
    },
    {
      "cell_type": "markdown",
      "source": [
        "## Handle String Columns"
      ],
      "metadata": {
        "id": "jx9XC7l8Yykg"
      }
    },
    {
      "cell_type": "markdown",
      "source": [
        "Here all categorical columns are ordinal so use label encoding for all categorical columns"
      ],
      "metadata": {
        "id": "am4_jIQYcml3"
      }
    },
    {
      "cell_type": "code",
      "source": [
        "from collections import defaultdict\n",
        "from sklearn.preprocessing import LabelEncoder\n",
        "d = defaultdict(LabelEncoder)\n",
        "# Encoding the variable\n",
        "X_train.loc[:,cat_columns] = X_train.loc[:,cat_columns].apply(lambda x: d[x.name].fit_transform(x))\n",
        "\n",
        "# Using the dictionary to label future data\n",
        "X_test.loc[:,cat_columns] = X_test.loc[:,cat_columns].apply(lambda x: d[x.name].transform(x))"
      ],
      "metadata": {
        "id": "DJiQ358tYuzC"
      },
      "execution_count": null,
      "outputs": []
    },
    {
      "cell_type": "code",
      "source": [
        "X_train.head() # Encoded Data"
      ],
      "metadata": {
        "colab": {
          "base_uri": "https://localhost:8080/",
          "height": 206
        },
        "id": "nmtJBkA3cNyp",
        "outputId": "1bcc8bf7-526b-4a1e-bbe1-a0de94b8aa2a"
      },
      "execution_count": null,
      "outputs": [
        {
          "output_type": "execute_result",
          "data": {
            "text/html": [
              "\n",
              "  <div id=\"df-1eda6924-a280-4589-9fe0-52cd6be2266d\">\n",
              "    <div class=\"colab-df-container\">\n",
              "      <div>\n",
              "<style scoped>\n",
              "    .dataframe tbody tr th:only-of-type {\n",
              "        vertical-align: middle;\n",
              "    }\n",
              "\n",
              "    .dataframe tbody tr th {\n",
              "        vertical-align: top;\n",
              "    }\n",
              "\n",
              "    .dataframe thead th {\n",
              "        text-align: right;\n",
              "    }\n",
              "</style>\n",
              "<table border=\"1\" class=\"dataframe\">\n",
              "  <thead>\n",
              "    <tr style=\"text-align: right;\">\n",
              "      <th></th>\n",
              "      <th>carat</th>\n",
              "      <th>cut</th>\n",
              "      <th>color</th>\n",
              "      <th>clarity</th>\n",
              "      <th>depth</th>\n",
              "      <th>table</th>\n",
              "      <th>price</th>\n",
              "      <th>x</th>\n",
              "      <th>y</th>\n",
              "      <th>z</th>\n",
              "    </tr>\n",
              "  </thead>\n",
              "  <tbody>\n",
              "    <tr>\n",
              "      <th>28336</th>\n",
              "      <td>0.33</td>\n",
              "      <td>3</td>\n",
              "      <td>3</td>\n",
              "      <td>4</td>\n",
              "      <td>61.9</td>\n",
              "      <td>59.0</td>\n",
              "      <td>666</td>\n",
              "      <td>4.43</td>\n",
              "      <td>4.45</td>\n",
              "      <td>2.75</td>\n",
              "    </tr>\n",
              "    <tr>\n",
              "      <th>8436</th>\n",
              "      <td>1.03</td>\n",
              "      <td>2</td>\n",
              "      <td>3</td>\n",
              "      <td>3</td>\n",
              "      <td>62.1</td>\n",
              "      <td>56.0</td>\n",
              "      <td>4407</td>\n",
              "      <td>6.44</td>\n",
              "      <td>6.48</td>\n",
              "      <td>4.01</td>\n",
              "    </tr>\n",
              "    <tr>\n",
              "      <th>42937</th>\n",
              "      <td>0.36</td>\n",
              "      <td>3</td>\n",
              "      <td>1</td>\n",
              "      <td>3</td>\n",
              "      <td>61.5</td>\n",
              "      <td>58.0</td>\n",
              "      <td>505</td>\n",
              "      <td>4.56</td>\n",
              "      <td>4.61</td>\n",
              "      <td>2.82</td>\n",
              "    </tr>\n",
              "    <tr>\n",
              "      <th>17975</th>\n",
              "      <td>1.05</td>\n",
              "      <td>2</td>\n",
              "      <td>3</td>\n",
              "      <td>4</td>\n",
              "      <td>62.2</td>\n",
              "      <td>53.0</td>\n",
              "      <td>7270</td>\n",
              "      <td>6.51</td>\n",
              "      <td>6.55</td>\n",
              "      <td>4.06</td>\n",
              "    </tr>\n",
              "    <tr>\n",
              "      <th>38939</th>\n",
              "      <td>0.40</td>\n",
              "      <td>3</td>\n",
              "      <td>1</td>\n",
              "      <td>4</td>\n",
              "      <td>60.3</td>\n",
              "      <td>58.0</td>\n",
              "      <td>1053</td>\n",
              "      <td>4.80</td>\n",
              "      <td>4.82</td>\n",
              "      <td>2.90</td>\n",
              "    </tr>\n",
              "  </tbody>\n",
              "</table>\n",
              "</div>\n",
              "      <button class=\"colab-df-convert\" onclick=\"convertToInteractive('df-1eda6924-a280-4589-9fe0-52cd6be2266d')\"\n",
              "              title=\"Convert this dataframe to an interactive table.\"\n",
              "              style=\"display:none;\">\n",
              "        \n",
              "  <svg xmlns=\"http://www.w3.org/2000/svg\" height=\"24px\"viewBox=\"0 0 24 24\"\n",
              "       width=\"24px\">\n",
              "    <path d=\"M0 0h24v24H0V0z\" fill=\"none\"/>\n",
              "    <path d=\"M18.56 5.44l.94 2.06.94-2.06 2.06-.94-2.06-.94-.94-2.06-.94 2.06-2.06.94zm-11 1L8.5 8.5l.94-2.06 2.06-.94-2.06-.94L8.5 2.5l-.94 2.06-2.06.94zm10 10l.94 2.06.94-2.06 2.06-.94-2.06-.94-.94-2.06-.94 2.06-2.06.94z\"/><path d=\"M17.41 7.96l-1.37-1.37c-.4-.4-.92-.59-1.43-.59-.52 0-1.04.2-1.43.59L10.3 9.45l-7.72 7.72c-.78.78-.78 2.05 0 2.83L4 21.41c.39.39.9.59 1.41.59.51 0 1.02-.2 1.41-.59l7.78-7.78 2.81-2.81c.8-.78.8-2.07 0-2.86zM5.41 20L4 18.59l7.72-7.72 1.47 1.35L5.41 20z\"/>\n",
              "  </svg>\n",
              "      </button>\n",
              "      \n",
              "  <style>\n",
              "    .colab-df-container {\n",
              "      display:flex;\n",
              "      flex-wrap:wrap;\n",
              "      gap: 12px;\n",
              "    }\n",
              "\n",
              "    .colab-df-convert {\n",
              "      background-color: #E8F0FE;\n",
              "      border: none;\n",
              "      border-radius: 50%;\n",
              "      cursor: pointer;\n",
              "      display: none;\n",
              "      fill: #1967D2;\n",
              "      height: 32px;\n",
              "      padding: 0 0 0 0;\n",
              "      width: 32px;\n",
              "    }\n",
              "\n",
              "    .colab-df-convert:hover {\n",
              "      background-color: #E2EBFA;\n",
              "      box-shadow: 0px 1px 2px rgba(60, 64, 67, 0.3), 0px 1px 3px 1px rgba(60, 64, 67, 0.15);\n",
              "      fill: #174EA6;\n",
              "    }\n",
              "\n",
              "    [theme=dark] .colab-df-convert {\n",
              "      background-color: #3B4455;\n",
              "      fill: #D2E3FC;\n",
              "    }\n",
              "\n",
              "    [theme=dark] .colab-df-convert:hover {\n",
              "      background-color: #434B5C;\n",
              "      box-shadow: 0px 1px 3px 1px rgba(0, 0, 0, 0.15);\n",
              "      filter: drop-shadow(0px 1px 2px rgba(0, 0, 0, 0.3));\n",
              "      fill: #FFFFFF;\n",
              "    }\n",
              "  </style>\n",
              "\n",
              "      <script>\n",
              "        const buttonEl =\n",
              "          document.querySelector('#df-1eda6924-a280-4589-9fe0-52cd6be2266d button.colab-df-convert');\n",
              "        buttonEl.style.display =\n",
              "          google.colab.kernel.accessAllowed ? 'block' : 'none';\n",
              "\n",
              "        async function convertToInteractive(key) {\n",
              "          const element = document.querySelector('#df-1eda6924-a280-4589-9fe0-52cd6be2266d');\n",
              "          const dataTable =\n",
              "            await google.colab.kernel.invokeFunction('convertToInteractive',\n",
              "                                                     [key], {});\n",
              "          if (!dataTable) return;\n",
              "\n",
              "          const docLinkHtml = 'Like what you see? Visit the ' +\n",
              "            '<a target=\"_blank\" href=https://colab.research.google.com/notebooks/data_table.ipynb>data table notebook</a>'\n",
              "            + ' to learn more about interactive tables.';\n",
              "          element.innerHTML = '';\n",
              "          dataTable['output_type'] = 'display_data';\n",
              "          await google.colab.output.renderOutput(dataTable, element);\n",
              "          const docLink = document.createElement('div');\n",
              "          docLink.innerHTML = docLinkHtml;\n",
              "          element.appendChild(docLink);\n",
              "        }\n",
              "      </script>\n",
              "    </div>\n",
              "  </div>\n",
              "  "
            ],
            "text/plain": [
              "       carat  cut  color  clarity  depth  table  price     x     y     z\n",
              "28336   0.33    3      3        4   61.9   59.0    666  4.43  4.45  2.75\n",
              "8436    1.03    2      3        3   62.1   56.0   4407  6.44  6.48  4.01\n",
              "42937   0.36    3      1        3   61.5   58.0    505  4.56  4.61  2.82\n",
              "17975   1.05    2      3        4   62.2   53.0   7270  6.51  6.55  4.06\n",
              "38939   0.40    3      1        4   60.3   58.0   1053  4.80  4.82  2.90"
            ]
          },
          "metadata": {},
          "execution_count": 13
        }
      ]
    },
    {
      "cell_type": "markdown",
      "source": [
        "**** This is extra step for your information of how to convert the encoded data back to original form"
      ],
      "metadata": {
        "id": "loGTmx02cw2Q"
      }
    },
    {
      "cell_type": "code",
      "source": [
        "# Inverse the encoded\n",
        "X_train.head().loc[:,cat_columns].apply(lambda x: d[x.name].inverse_transform(x))"
      ],
      "metadata": {
        "colab": {
          "base_uri": "https://localhost:8080/",
          "height": 206
        },
        "id": "irChLP5cbK6N",
        "outputId": "c7cfc75c-0bc3-444e-8008-6275f5e3c794"
      },
      "execution_count": null,
      "outputs": [
        {
          "output_type": "execute_result",
          "data": {
            "text/html": [
              "\n",
              "  <div id=\"df-60ce06e6-8f2a-4ae7-92d3-01bad29b5531\">\n",
              "    <div class=\"colab-df-container\">\n",
              "      <div>\n",
              "<style scoped>\n",
              "    .dataframe tbody tr th:only-of-type {\n",
              "        vertical-align: middle;\n",
              "    }\n",
              "\n",
              "    .dataframe tbody tr th {\n",
              "        vertical-align: top;\n",
              "    }\n",
              "\n",
              "    .dataframe thead th {\n",
              "        text-align: right;\n",
              "    }\n",
              "</style>\n",
              "<table border=\"1\" class=\"dataframe\">\n",
              "  <thead>\n",
              "    <tr style=\"text-align: right;\">\n",
              "      <th></th>\n",
              "      <th>cut</th>\n",
              "      <th>color</th>\n",
              "      <th>clarity</th>\n",
              "    </tr>\n",
              "  </thead>\n",
              "  <tbody>\n",
              "    <tr>\n",
              "      <th>28336</th>\n",
              "      <td>Premium</td>\n",
              "      <td>G</td>\n",
              "      <td>VS1</td>\n",
              "    </tr>\n",
              "    <tr>\n",
              "      <th>8436</th>\n",
              "      <td>Ideal</td>\n",
              "      <td>G</td>\n",
              "      <td>SI2</td>\n",
              "    </tr>\n",
              "    <tr>\n",
              "      <th>42937</th>\n",
              "      <td>Premium</td>\n",
              "      <td>E</td>\n",
              "      <td>SI2</td>\n",
              "    </tr>\n",
              "    <tr>\n",
              "      <th>17975</th>\n",
              "      <td>Ideal</td>\n",
              "      <td>G</td>\n",
              "      <td>VS1</td>\n",
              "    </tr>\n",
              "    <tr>\n",
              "      <th>38939</th>\n",
              "      <td>Premium</td>\n",
              "      <td>E</td>\n",
              "      <td>VS1</td>\n",
              "    </tr>\n",
              "  </tbody>\n",
              "</table>\n",
              "</div>\n",
              "      <button class=\"colab-df-convert\" onclick=\"convertToInteractive('df-60ce06e6-8f2a-4ae7-92d3-01bad29b5531')\"\n",
              "              title=\"Convert this dataframe to an interactive table.\"\n",
              "              style=\"display:none;\">\n",
              "        \n",
              "  <svg xmlns=\"http://www.w3.org/2000/svg\" height=\"24px\"viewBox=\"0 0 24 24\"\n",
              "       width=\"24px\">\n",
              "    <path d=\"M0 0h24v24H0V0z\" fill=\"none\"/>\n",
              "    <path d=\"M18.56 5.44l.94 2.06.94-2.06 2.06-.94-2.06-.94-.94-2.06-.94 2.06-2.06.94zm-11 1L8.5 8.5l.94-2.06 2.06-.94-2.06-.94L8.5 2.5l-.94 2.06-2.06.94zm10 10l.94 2.06.94-2.06 2.06-.94-2.06-.94-.94-2.06-.94 2.06-2.06.94z\"/><path d=\"M17.41 7.96l-1.37-1.37c-.4-.4-.92-.59-1.43-.59-.52 0-1.04.2-1.43.59L10.3 9.45l-7.72 7.72c-.78.78-.78 2.05 0 2.83L4 21.41c.39.39.9.59 1.41.59.51 0 1.02-.2 1.41-.59l7.78-7.78 2.81-2.81c.8-.78.8-2.07 0-2.86zM5.41 20L4 18.59l7.72-7.72 1.47 1.35L5.41 20z\"/>\n",
              "  </svg>\n",
              "      </button>\n",
              "      \n",
              "  <style>\n",
              "    .colab-df-container {\n",
              "      display:flex;\n",
              "      flex-wrap:wrap;\n",
              "      gap: 12px;\n",
              "    }\n",
              "\n",
              "    .colab-df-convert {\n",
              "      background-color: #E8F0FE;\n",
              "      border: none;\n",
              "      border-radius: 50%;\n",
              "      cursor: pointer;\n",
              "      display: none;\n",
              "      fill: #1967D2;\n",
              "      height: 32px;\n",
              "      padding: 0 0 0 0;\n",
              "      width: 32px;\n",
              "    }\n",
              "\n",
              "    .colab-df-convert:hover {\n",
              "      background-color: #E2EBFA;\n",
              "      box-shadow: 0px 1px 2px rgba(60, 64, 67, 0.3), 0px 1px 3px 1px rgba(60, 64, 67, 0.15);\n",
              "      fill: #174EA6;\n",
              "    }\n",
              "\n",
              "    [theme=dark] .colab-df-convert {\n",
              "      background-color: #3B4455;\n",
              "      fill: #D2E3FC;\n",
              "    }\n",
              "\n",
              "    [theme=dark] .colab-df-convert:hover {\n",
              "      background-color: #434B5C;\n",
              "      box-shadow: 0px 1px 3px 1px rgba(0, 0, 0, 0.15);\n",
              "      filter: drop-shadow(0px 1px 2px rgba(0, 0, 0, 0.3));\n",
              "      fill: #FFFFFF;\n",
              "    }\n",
              "  </style>\n",
              "\n",
              "      <script>\n",
              "        const buttonEl =\n",
              "          document.querySelector('#df-60ce06e6-8f2a-4ae7-92d3-01bad29b5531 button.colab-df-convert');\n",
              "        buttonEl.style.display =\n",
              "          google.colab.kernel.accessAllowed ? 'block' : 'none';\n",
              "\n",
              "        async function convertToInteractive(key) {\n",
              "          const element = document.querySelector('#df-60ce06e6-8f2a-4ae7-92d3-01bad29b5531');\n",
              "          const dataTable =\n",
              "            await google.colab.kernel.invokeFunction('convertToInteractive',\n",
              "                                                     [key], {});\n",
              "          if (!dataTable) return;\n",
              "\n",
              "          const docLinkHtml = 'Like what you see? Visit the ' +\n",
              "            '<a target=\"_blank\" href=https://colab.research.google.com/notebooks/data_table.ipynb>data table notebook</a>'\n",
              "            + ' to learn more about interactive tables.';\n",
              "          element.innerHTML = '';\n",
              "          dataTable['output_type'] = 'display_data';\n",
              "          await google.colab.output.renderOutput(dataTable, element);\n",
              "          const docLink = document.createElement('div');\n",
              "          docLink.innerHTML = docLinkHtml;\n",
              "          element.appendChild(docLink);\n",
              "        }\n",
              "      </script>\n",
              "    </div>\n",
              "  </div>\n",
              "  "
            ],
            "text/plain": [
              "           cut color clarity\n",
              "28336  Premium     G     VS1\n",
              "8436     Ideal     G     SI2\n",
              "42937  Premium     E     SI2\n",
              "17975    Ideal     G     VS1\n",
              "38939  Premium     E     VS1"
            ]
          },
          "metadata": {},
          "execution_count": 14
        }
      ]
    },
    {
      "cell_type": "markdown",
      "source": [
        "# Normalize the Numeric Columns ONLY"
      ],
      "metadata": {
        "id": "M6Olo-7HdsCg"
      }
    },
    {
      "cell_type": "markdown",
      "source": [
        "## Robust Scalar\n",
        "\n",
        "value = (value – median) / (p75 – p25) # IQR --> Q3-Q1 \n",
        "\n",
        "## Standard Scalar\n",
        "\n",
        "value = (value - mean) / std_dev"
      ],
      "metadata": {
        "id": "JDmHcEtOfaQI"
      }
    },
    {
      "cell_type": "code",
      "source": [
        "from sklearn.preprocessing import RobustScaler\n",
        "rs = RobustScaler().fit(X_train.loc[:,num_columns])\n",
        "X_train.loc[:,num_columns] = rs.transform(X_train.loc[:,num_columns])\n",
        "X_test.loc[:,num_columns] = rs.transform(X_test.loc[:,num_columns])"
      ],
      "metadata": {
        "id": "HnaJPcwoduE6"
      },
      "execution_count": null,
      "outputs": []
    },
    {
      "cell_type": "code",
      "source": [
        "X_train.head()"
      ],
      "metadata": {
        "colab": {
          "base_uri": "https://localhost:8080/",
          "height": 206
        },
        "id": "33m7HeB9ghCP",
        "outputId": "692d249c-56f7-480d-8778-60328f9368aa"
      },
      "execution_count": null,
      "outputs": [
        {
          "output_type": "execute_result",
          "data": {
            "text/html": [
              "\n",
              "  <div id=\"df-6def79eb-46d8-4da6-8b87-904642454199\">\n",
              "    <div class=\"colab-df-container\">\n",
              "      <div>\n",
              "<style scoped>\n",
              "    .dataframe tbody tr th:only-of-type {\n",
              "        vertical-align: middle;\n",
              "    }\n",
              "\n",
              "    .dataframe tbody tr th {\n",
              "        vertical-align: top;\n",
              "    }\n",
              "\n",
              "    .dataframe thead th {\n",
              "        text-align: right;\n",
              "    }\n",
              "</style>\n",
              "<table border=\"1\" class=\"dataframe\">\n",
              "  <thead>\n",
              "    <tr style=\"text-align: right;\">\n",
              "      <th></th>\n",
              "      <th>carat</th>\n",
              "      <th>cut</th>\n",
              "      <th>color</th>\n",
              "      <th>clarity</th>\n",
              "      <th>depth</th>\n",
              "      <th>table</th>\n",
              "      <th>price</th>\n",
              "      <th>x</th>\n",
              "      <th>y</th>\n",
              "      <th>z</th>\n",
              "    </tr>\n",
              "  </thead>\n",
              "  <tbody>\n",
              "    <tr>\n",
              "      <th>28336</th>\n",
              "      <td>-0.578125</td>\n",
              "      <td>3</td>\n",
              "      <td>3</td>\n",
              "      <td>4</td>\n",
              "      <td>0.066667</td>\n",
              "      <td>0.666667</td>\n",
              "      <td>-0.401613</td>\n",
              "      <td>-0.697802</td>\n",
              "      <td>-0.700000</td>\n",
              "      <td>-0.687500</td>\n",
              "    </tr>\n",
              "    <tr>\n",
              "      <th>8436</th>\n",
              "      <td>0.515625</td>\n",
              "      <td>2</td>\n",
              "      <td>3</td>\n",
              "      <td>3</td>\n",
              "      <td>0.200000</td>\n",
              "      <td>-0.333333</td>\n",
              "      <td>0.460369</td>\n",
              "      <td>0.406593</td>\n",
              "      <td>0.427778</td>\n",
              "      <td>0.437500</td>\n",
              "    </tr>\n",
              "    <tr>\n",
              "      <th>42937</th>\n",
              "      <td>-0.531250</td>\n",
              "      <td>3</td>\n",
              "      <td>1</td>\n",
              "      <td>3</td>\n",
              "      <td>-0.200000</td>\n",
              "      <td>0.333333</td>\n",
              "      <td>-0.438710</td>\n",
              "      <td>-0.626374</td>\n",
              "      <td>-0.611111</td>\n",
              "      <td>-0.625000</td>\n",
              "    </tr>\n",
              "    <tr>\n",
              "      <th>17975</th>\n",
              "      <td>0.546875</td>\n",
              "      <td>2</td>\n",
              "      <td>3</td>\n",
              "      <td>4</td>\n",
              "      <td>0.266667</td>\n",
              "      <td>-1.333333</td>\n",
              "      <td>1.120046</td>\n",
              "      <td>0.445055</td>\n",
              "      <td>0.466667</td>\n",
              "      <td>0.482143</td>\n",
              "    </tr>\n",
              "    <tr>\n",
              "      <th>38939</th>\n",
              "      <td>-0.468750</td>\n",
              "      <td>3</td>\n",
              "      <td>1</td>\n",
              "      <td>4</td>\n",
              "      <td>-1.000000</td>\n",
              "      <td>0.333333</td>\n",
              "      <td>-0.312442</td>\n",
              "      <td>-0.494505</td>\n",
              "      <td>-0.494444</td>\n",
              "      <td>-0.553571</td>\n",
              "    </tr>\n",
              "  </tbody>\n",
              "</table>\n",
              "</div>\n",
              "      <button class=\"colab-df-convert\" onclick=\"convertToInteractive('df-6def79eb-46d8-4da6-8b87-904642454199')\"\n",
              "              title=\"Convert this dataframe to an interactive table.\"\n",
              "              style=\"display:none;\">\n",
              "        \n",
              "  <svg xmlns=\"http://www.w3.org/2000/svg\" height=\"24px\"viewBox=\"0 0 24 24\"\n",
              "       width=\"24px\">\n",
              "    <path d=\"M0 0h24v24H0V0z\" fill=\"none\"/>\n",
              "    <path d=\"M18.56 5.44l.94 2.06.94-2.06 2.06-.94-2.06-.94-.94-2.06-.94 2.06-2.06.94zm-11 1L8.5 8.5l.94-2.06 2.06-.94-2.06-.94L8.5 2.5l-.94 2.06-2.06.94zm10 10l.94 2.06.94-2.06 2.06-.94-2.06-.94-.94-2.06-.94 2.06-2.06.94z\"/><path d=\"M17.41 7.96l-1.37-1.37c-.4-.4-.92-.59-1.43-.59-.52 0-1.04.2-1.43.59L10.3 9.45l-7.72 7.72c-.78.78-.78 2.05 0 2.83L4 21.41c.39.39.9.59 1.41.59.51 0 1.02-.2 1.41-.59l7.78-7.78 2.81-2.81c.8-.78.8-2.07 0-2.86zM5.41 20L4 18.59l7.72-7.72 1.47 1.35L5.41 20z\"/>\n",
              "  </svg>\n",
              "      </button>\n",
              "      \n",
              "  <style>\n",
              "    .colab-df-container {\n",
              "      display:flex;\n",
              "      flex-wrap:wrap;\n",
              "      gap: 12px;\n",
              "    }\n",
              "\n",
              "    .colab-df-convert {\n",
              "      background-color: #E8F0FE;\n",
              "      border: none;\n",
              "      border-radius: 50%;\n",
              "      cursor: pointer;\n",
              "      display: none;\n",
              "      fill: #1967D2;\n",
              "      height: 32px;\n",
              "      padding: 0 0 0 0;\n",
              "      width: 32px;\n",
              "    }\n",
              "\n",
              "    .colab-df-convert:hover {\n",
              "      background-color: #E2EBFA;\n",
              "      box-shadow: 0px 1px 2px rgba(60, 64, 67, 0.3), 0px 1px 3px 1px rgba(60, 64, 67, 0.15);\n",
              "      fill: #174EA6;\n",
              "    }\n",
              "\n",
              "    [theme=dark] .colab-df-convert {\n",
              "      background-color: #3B4455;\n",
              "      fill: #D2E3FC;\n",
              "    }\n",
              "\n",
              "    [theme=dark] .colab-df-convert:hover {\n",
              "      background-color: #434B5C;\n",
              "      box-shadow: 0px 1px 3px 1px rgba(0, 0, 0, 0.15);\n",
              "      filter: drop-shadow(0px 1px 2px rgba(0, 0, 0, 0.3));\n",
              "      fill: #FFFFFF;\n",
              "    }\n",
              "  </style>\n",
              "\n",
              "      <script>\n",
              "        const buttonEl =\n",
              "          document.querySelector('#df-6def79eb-46d8-4da6-8b87-904642454199 button.colab-df-convert');\n",
              "        buttonEl.style.display =\n",
              "          google.colab.kernel.accessAllowed ? 'block' : 'none';\n",
              "\n",
              "        async function convertToInteractive(key) {\n",
              "          const element = document.querySelector('#df-6def79eb-46d8-4da6-8b87-904642454199');\n",
              "          const dataTable =\n",
              "            await google.colab.kernel.invokeFunction('convertToInteractive',\n",
              "                                                     [key], {});\n",
              "          if (!dataTable) return;\n",
              "\n",
              "          const docLinkHtml = 'Like what you see? Visit the ' +\n",
              "            '<a target=\"_blank\" href=https://colab.research.google.com/notebooks/data_table.ipynb>data table notebook</a>'\n",
              "            + ' to learn more about interactive tables.';\n",
              "          element.innerHTML = '';\n",
              "          dataTable['output_type'] = 'display_data';\n",
              "          await google.colab.output.renderOutput(dataTable, element);\n",
              "          const docLink = document.createElement('div');\n",
              "          docLink.innerHTML = docLinkHtml;\n",
              "          element.appendChild(docLink);\n",
              "        }\n",
              "      </script>\n",
              "    </div>\n",
              "  </div>\n",
              "  "
            ],
            "text/plain": [
              "          carat  cut  color  clarity  ...     price         x         y         z\n",
              "28336 -0.578125    3      3        4  ... -0.401613 -0.697802 -0.700000 -0.687500\n",
              "8436   0.515625    2      3        3  ...  0.460369  0.406593  0.427778  0.437500\n",
              "42937 -0.531250    3      1        3  ... -0.438710 -0.626374 -0.611111 -0.625000\n",
              "17975  0.546875    2      3        4  ...  1.120046  0.445055  0.466667  0.482143\n",
              "38939 -0.468750    3      1        4  ... -0.312442 -0.494505 -0.494444 -0.553571\n",
              "\n",
              "[5 rows x 10 columns]"
            ]
          },
          "metadata": {},
          "execution_count": 17
        }
      ]
    },
    {
      "cell_type": "code",
      "source": [
        "X_train.dtypes"
      ],
      "metadata": {
        "colab": {
          "base_uri": "https://localhost:8080/"
        },
        "id": "R9STUAcailqi",
        "outputId": "8053ef65-dea7-4344-8b2b-c75ea758cdd1"
      },
      "execution_count": null,
      "outputs": [
        {
          "output_type": "execute_result",
          "data": {
            "text/plain": [
              "carat      float64\n",
              "cut          int64\n",
              "color        int64\n",
              "clarity      int64\n",
              "depth      float64\n",
              "table      float64\n",
              "price      float64\n",
              "x          float64\n",
              "y          float64\n",
              "z          float64\n",
              "dtype: object"
            ]
          },
          "metadata": {},
          "execution_count": 18
        }
      ]
    },
    {
      "cell_type": "markdown",
      "source": [
        "# Apply Agglomerative Clustering ( Hierarchical)"
      ],
      "metadata": {
        "id": "TP5WfsYKdjDw"
      }
    },
    {
      "cell_type": "markdown",
      "source": [
        "## Advantage \n",
        "\n",
        "1. Used for descriptive clustering analysis means after finding clusters we can describe which point comes under which cluster \n",
        "\n",
        "2. Step by step formation of clusters\n",
        "\n",
        "\n",
        "## Limitation\n",
        "\n",
        "1. Algorithm requires O(n^2) RAM and O (n^3) time \n",
        "\n",
        "It doesn't work on Large data\n",
        "\n",
        "So, sample the data and apply the algorithm\n",
        "\n",
        "\n",
        "\n",
        "2. This clustering can't be applied to predict on new data (test data) . It doesn't have predict method because of its approach."
      ],
      "metadata": {
        "id": "OO0fjggGn_er"
      }
    },
    {
      "cell_type": "code",
      "source": [
        "n_sample = 1000"
      ],
      "metadata": {
        "id": "CUtQ3TRyoN0g"
      },
      "execution_count": null,
      "outputs": []
    },
    {
      "cell_type": "code",
      "source": [
        "X_train_sample = X_train.sample(n_sample,random_state=None)"
      ],
      "metadata": {
        "id": "-T9M1poHogl5"
      },
      "execution_count": null,
      "outputs": []
    },
    {
      "cell_type": "code",
      "source": [
        "X_test_sample = X_test.sample(n_sample,random_state=None)"
      ],
      "metadata": {
        "id": "T8Umb0N7qEZY"
      },
      "execution_count": null,
      "outputs": []
    },
    {
      "cell_type": "markdown",
      "source": [
        "## Get the number of clusters using dendrogram\n",
        "\n",
        "Use ONLY 5K random rows because colab will fail for complete data\n",
        "\n",
        "We can see the longest vertical lines without any horizontal lines are with 3 clusters"
      ],
      "metadata": {
        "id": "2WugkUAKi0ow"
      }
    },
    {
      "cell_type": "code",
      "source": [
        "import matplotlib.pyplot as plt\n",
        "\n",
        "import scipy.cluster.hierarchy as shc\n",
        "plt.figure(figsize=(10, 7))  \n",
        "plt.title(\"Dendrograms\")  \n",
        "dend = shc.dendrogram(shc.linkage(X_train_sample, method='ward'))\n",
        "plt.axhline(y=50, color='r', linestyle='--')"
      ],
      "metadata": {
        "colab": {
          "base_uri": "https://localhost:8080/",
          "height": 461
        },
        "id": "wxe2WgSRc_H1",
        "outputId": "544f7414-bee8-46cc-a5ca-c84ac0759866"
      },
      "execution_count": null,
      "outputs": [
        {
          "output_type": "execute_result",
          "data": {
            "text/plain": [
              "<matplotlib.lines.Line2D at 0x7f38e8640590>"
            ]
          },
          "metadata": {},
          "execution_count": 28
        },
        {
          "output_type": "display_data",
          "data": {
            "image/png": "[encoded data removed]",
            "text/plain": [
              "<Figure size 720x504 with 1 Axes>"
            ]
          },
          "metadata": {
            "needs_background": "light"
          }
        }
      ]
    },
    {
      "cell_type": "code",
      "source": [
        "from sklearn.cluster import AgglomerativeClustering\n",
        "cluster = AgglomerativeClustering(n_clusters=2, affinity='euclidean', linkage='ward')  \n",
        "cluster_labels = cluster.fit_predict(X_train_sample)"
      ],
      "metadata": {
        "id": "SPJWDNwgi-58"
      },
      "execution_count": null,
      "outputs": []
    },
    {
      "cell_type": "code",
      "source": [
        "plt.figure(figsize=(10, 7))  \n",
        "plt.scatter(X_train_sample['carat'], X_train_sample['depth'], c=cluster.labels_) "
      ],
      "metadata": {
        "colab": {
          "base_uri": "https://localhost:8080/",
          "height": 445
        },
        "id": "0QAdcHBOqPom",
        "outputId": "f792ceb1-63c4-4d12-f42e-c547c55bf8c1"
      },
      "execution_count": null,
      "outputs": [
        {
          "output_type": "execute_result",
          "data": {
            "text/plain": [
              "<matplotlib.collections.PathCollection at 0x7f38ea8c2ad0>"
            ]
          },
          "metadata": {},
          "execution_count": 26
        },
        {
          "output_type": "display_data",
          "data": {
            "image/png": "[encoded data removed]",
            "text/plain": [
              "<Figure size 720x504 with 1 Axes>"
            ]
          },
          "metadata": {
            "needs_background": "light"
          }
        }
      ]
    },
    {
      "cell_type": "code",
      "source": [
        "plt.figure(figsize=(10, 7))  \n",
        "plt.scatter(X_train_sample['carat'], X_train_sample['price'], c=cluster.labels_) "
      ],
      "metadata": {
        "colab": {
          "base_uri": "https://localhost:8080/",
          "height": 445
        },
        "id": "DcuAs8A5qYPv",
        "outputId": "44f8e94b-f776-4a32-cc1e-d2cbd734dd6b"
      },
      "execution_count": null,
      "outputs": [
        {
          "output_type": "execute_result",
          "data": {
            "text/plain": [
              "<matplotlib.collections.PathCollection at 0x7f38e8fbdf50>"
            ]
          },
          "metadata": {},
          "execution_count": 29
        },
        {
          "output_type": "display_data",
          "data": {
            "image/png": "[encoded data removed]",
            "text/plain": [
              "<Figure size 720x504 with 1 Axes>"
            ]
          },
          "metadata": {
            "needs_background": "light"
          }
        }
      ]
    },
    {
      "cell_type": "code",
      "source": [
        "plt.figure(figsize=(10, 7))  \n",
        "plt.scatter(X_train_sample['carat'], X_train_sample['clarity'], c=cluster.labels_) "
      ],
      "metadata": {
        "colab": {
          "base_uri": "https://localhost:8080/",
          "height": 445
        },
        "id": "QlIqN6h1qw-k",
        "outputId": "9e196fe1-9cb9-4bfc-d092-728a3674c762"
      },
      "execution_count": null,
      "outputs": [
        {
          "output_type": "execute_result",
          "data": {
            "text/plain": [
              "<matplotlib.collections.PathCollection at 0x7f38e8e85610>"
            ]
          },
          "metadata": {},
          "execution_count": 30
        },
        {
          "output_type": "display_data",
          "data": {
            "image/png": "[encoded data removed]",
            "text/plain": [
              "<Figure size 720x504 with 1 Axes>"
            ]
          },
          "metadata": {
            "needs_background": "light"
          }
        }
      ]
    },
    {
      "cell_type": "markdown",
      "source": [
        "# K-means Clustering"
      ],
      "metadata": {
        "id": "A6UZyrJttFFh"
      }
    },
    {
      "cell_type": "markdown",
      "source": [
        "## Advantage \n",
        "\n",
        "1. Simple clustering mechanism\n",
        "\n",
        "2. Has different types like k-median, k-medoid, etc\n",
        "\n",
        "3. Can be used to predict clusters for new data ( test data )\n",
        "\n",
        "## Dis Advantage\n",
        "\n",
        "1. Cannot point out outliers\n",
        "\n",
        "2. Finding right k ( number of clusters ) is tedious task"
      ],
      "metadata": {
        "id": "9hG1LblPtkfq"
      }
    },
    {
      "cell_type": "code",
      "source": [
        "X_train.shape, X_test.shape"
      ],
      "metadata": {
        "colab": {
          "base_uri": "https://localhost:8080/"
        },
        "id": "nQVaRSK8vA85",
        "outputId": "ef25d103-8c04-4994-ed06-388ef16f32ae"
      },
      "execution_count": null,
      "outputs": [
        {
          "output_type": "execute_result",
          "data": {
            "text/plain": [
              "((37758, 11), (16182, 11))"
            ]
          },
          "metadata": {},
          "execution_count": 43
        }
      ]
    },
    {
      "cell_type": "markdown",
      "source": [
        "## Simple K means with K =3 ( random choice of K)"
      ],
      "metadata": {
        "id": "kICUCJ1Zwq9Z"
      }
    },
    {
      "cell_type": "markdown",
      "source": [
        "### Fit on Training data"
      ],
      "metadata": {
        "id": "Sug4uc6Yz60x"
      }
    },
    {
      "cell_type": "code",
      "source": [
        "from sklearn.cluster import KMeans"
      ],
      "metadata": {
        "id": "shaS1HpTwxGh"
      },
      "execution_count": null,
      "outputs": []
    },
    {
      "cell_type": "code",
      "source": [
        "K =3"
      ],
      "metadata": {
        "id": "w_8dO0zEw7hQ"
      },
      "execution_count": null,
      "outputs": []
    },
    {
      "cell_type": "code",
      "source": [
        "kmeanModel = KMeans(n_clusters=K, random_state =7)\n",
        "# max_iter --> maximum iteratoin\n",
        "# tol --> tolerance (how much error is allowed?) for convergence"
      ],
      "metadata": {
        "id": "ww9w_yNUwyw7"
      },
      "execution_count": null,
      "outputs": []
    },
    {
      "cell_type": "code",
      "source": [
        "kmeanModel.fit(X_train)"
      ],
      "metadata": {
        "colab": {
          "base_uri": "https://localhost:8080/"
        },
        "id": "_LsZx_lWxD37",
        "outputId": "ed98a003-c07a-4cd6-a4ae-9275bb21450c"
      },
      "execution_count": null,
      "outputs": [
        {
          "output_type": "execute_result",
          "data": {
            "text/plain": [
              "KMeans(n_clusters=3, random_state=7)"
            ]
          },
          "metadata": {},
          "execution_count": 45
        }
      ]
    },
    {
      "cell_type": "code",
      "source": [
        "kmeanModel.get_params"
      ],
      "metadata": {
        "colab": {
          "base_uri": "https://localhost:8080/"
        },
        "id": "kc5AnpUfzryR",
        "outputId": "855cd880-7bcd-401b-c2e8-e9f60ce9f994"
      },
      "execution_count": null,
      "outputs": [
        {
          "output_type": "execute_result",
          "data": {
            "text/plain": [
              "<bound method BaseEstimator.get_params of KMeans(n_clusters=3, random_state=7)>"
            ]
          },
          "metadata": {},
          "execution_count": 36
        }
      ]
    },
    {
      "cell_type": "code",
      "source": [
        "kmeanModel.cluster_centers_"
      ],
      "metadata": {
        "colab": {
          "base_uri": "https://localhost:8080/"
        },
        "id": "q8O1ZIQkydPK",
        "outputId": "dba214c5-64cd-4231-af2d-9b77c5dc2feb"
      },
      "execution_count": null,
      "outputs": [
        {
          "output_type": "execute_result",
          "data": {
            "text/plain": [
              "array([[ 4.49528215e+04, -2.81446010e-01,  2.50162763e+00,\n",
              "         2.30789996e+00,  3.98650258e+00, -6.61373561e-02,\n",
              "         8.00661638e-02, -1.98134235e-01, -3.21378621e-01,\n",
              "        -3.28735830e-01, -3.22618811e-01],\n",
              "       [ 8.93485948e+03,  3.60900782e-01,  2.56883138e+00,\n",
              "         2.73197841e+00,  3.42989838e+00,  2.44204509e-02,\n",
              "         2.60969091e-01,  4.17058173e-01,  2.58871646e-01,\n",
              "         2.56005875e-01,  2.62194206e-01],\n",
              "       [ 2.69649846e+04,  3.79857713e-01,  2.58916209e+00,\n",
              "         2.71600223e+00,  4.08570064e+00, -6.32556166e-02,\n",
              "         1.11405533e-01,  8.37490241e-01,  1.14379016e-01,\n",
              "         1.14196794e-01,  1.10892047e-01]])"
            ]
          },
          "metadata": {},
          "execution_count": 46
        }
      ]
    },
    {
      "cell_type": "code",
      "source": [
        "kmeanModel.labels_[:5]"
      ],
      "metadata": {
        "colab": {
          "base_uri": "https://localhost:8080/"
        },
        "id": "7aQsP8wKxjRx",
        "outputId": "a4b6c1dd-3a53-48d8-ad66-0e3332214687"
      },
      "execution_count": null,
      "outputs": [
        {
          "output_type": "execute_result",
          "data": {
            "text/plain": [
              "array([2, 1, 0, 2, 0], dtype=int32)"
            ]
          },
          "metadata": {},
          "execution_count": 47
        }
      ]
    },
    {
      "cell_type": "markdown",
      "source": [
        "### Predict on Test Data"
      ],
      "metadata": {
        "id": "w-mto8dsz01q"
      }
    },
    {
      "cell_type": "code",
      "source": [
        "predictions = kmeanModel.predict(X_test)"
      ],
      "metadata": {
        "id": "gXloTaHoxvEi"
      },
      "execution_count": null,
      "outputs": []
    },
    {
      "cell_type": "code",
      "source": [
        "predictions[:5]"
      ],
      "metadata": {
        "colab": {
          "base_uri": "https://localhost:8080/"
        },
        "id": "-6Xia_Akx0dJ",
        "outputId": "1c801d13-c1f8-4e2f-846a-b67710e66ddd"
      },
      "execution_count": null,
      "outputs": [
        {
          "output_type": "execute_result",
          "data": {
            "text/plain": [
              "array([0, 1, 1, 2, 2], dtype=int32)"
            ]
          },
          "metadata": {},
          "execution_count": 49
        }
      ]
    },
    {
      "cell_type": "markdown",
      "source": [
        "### Find K using L-bow Method\n",
        "\n",
        "Plot inertia or distortions (Y-axis) graph for various K values ( X - axis).\n",
        "\n",
        "inertia =\n",
        "Sum of squared distances of samples to their closest cluster center, weighted by the sample weights if provided.\n",
        "\n",
        "distortions = avg distances of samples to their closest cluster center\n",
        "\n",
        "K value where there is L-bow in that graph should be selected \n",
        "\n",
        "### Limitation ::\n",
        "\n",
        "This method subjective and may not work for all datasets. If no L bow then will have to try K values randomly"
      ],
      "metadata": {
        "id": "v5V6U4NEwnl6"
      }
    },
    {
      "cell_type": "code",
      "source": [
        "from sklearn.cluster import KMeans\n",
        "from sklearn import metrics\n",
        "from scipy.spatial.distance import cdist\n",
        "import numpy as np\n",
        "import matplotlib.pyplot as plt"
      ],
      "metadata": {
        "id": "NK36LgWFrmHK"
      },
      "execution_count": null,
      "outputs": []
    },
    {
      "cell_type": "code",
      "source": [
        "distortions = []\n",
        "inertias = []\n",
        "mapping1 = {}\n",
        "mapping2 = {}\n",
        "K = range(1, 10)\n",
        " \n",
        "for k in K:\n",
        "    # Building and fitting the model\n",
        "    kmeanModel = KMeans(n_clusters=k, random_state =7)\n",
        "    kmeanModel.fit(X_train)\n",
        " \n",
        "    distortions.append(sum(np.min(cdist(X_train, kmeanModel.cluster_centers_,\n",
        "                                        'euclidean'), axis=1)) / X_train.shape[0])\n",
        "    inertias.append(kmeanModel.inertia_)\n",
        " \n",
        "    mapping1[k] = sum(np.min(cdist(X_train, kmeanModel.cluster_centers_,\n",
        "                                   'euclidean'), axis=1)) / X_train.shape[0]\n",
        "    mapping2[k] = kmeanModel.inertia_"
      ],
      "metadata": {
        "id": "WBST2OEmu1H5"
      },
      "execution_count": null,
      "outputs": []
    },
    {
      "cell_type": "code",
      "source": [
        "for key, val in mapping1.items():\n",
        "    print(f'{key} : {val}')"
      ],
      "metadata": {
        "colab": {
          "base_uri": "https://localhost:8080/"
        },
        "id": "D0lxryVbwOnp",
        "outputId": "a74cd8c2-2200-4c46-e3a9-023c5e3b8989"
      },
      "execution_count": null,
      "outputs": [
        {
          "output_type": "stream",
          "name": "stdout",
          "text": [
            "1 : 3.158351035664309\n",
            "2 : 2.762184056658353\n",
            "3 : 2.484245906612965\n",
            "4 : 2.35580624214235\n",
            "5 : 2.231976191802\n",
            "6 : 2.156305279406165\n",
            "7 : 2.108478477267194\n",
            "8 : 2.0547068893363987\n",
            "9 : 2.001835297054679\n"
          ]
        }
      ]
    },
    {
      "cell_type": "code",
      "source": [
        "plt.plot(K, distortions, 'bx-')\n",
        "plt.xlabel('Values of K')\n",
        "plt.ylabel('Distortion')\n",
        "plt.title('The Elbow Method using Distortion')\n",
        "plt.show()"
      ],
      "metadata": {
        "colab": {
          "base_uri": "https://localhost:8080/",
          "height": 295
        },
        "id": "Cfpd3Iy9wb4K",
        "outputId": "18af0832-98c5-4ffe-f0d5-2137bb0a486a"
      },
      "execution_count": null,
      "outputs": [
        {
          "output_type": "display_data",
          "data": {
            "image/png": "[encoded data removed]",
            "text/plain": [
              "<Figure size 432x288 with 1 Axes>"
            ]
          },
          "metadata": {
            "needs_background": "light"
          }
        }
      ]
    },
    {
      "cell_type": "code",
      "source": [
        "for key, val in mapping2.items():\n",
        "    print(f'{key} : {val}')"
      ],
      "metadata": {
        "colab": {
          "base_uri": "https://localhost:8080/"
        },
        "id": "iNUNZcWewS8S",
        "outputId": "11ab5e8b-3514-4f5b-cfa6-7cc2e3d72211"
      },
      "execution_count": null,
      "outputs": [
        {
          "output_type": "stream",
          "name": "stdout",
          "text": [
            "1 : 414064.91664868395\n",
            "2 : 323703.00628952426\n",
            "3 : 261785.31877432624\n",
            "4 : 234324.33866288772\n",
            "5 : 211850.65001009702\n",
            "6 : 198740.62422591983\n",
            "7 : 187849.82614897366\n",
            "8 : 179697.08680656072\n",
            "9 : 171200.09240540545\n"
          ]
        }
      ]
    },
    {
      "cell_type": "code",
      "source": [
        "plt.plot(K, inertias, 'bx-')\n",
        "plt.xlabel('Values of K')\n",
        "plt.ylabel('Inertia')\n",
        "plt.title('The Elbow Method using Inertia')\n",
        "plt.show()"
      ],
      "metadata": {
        "colab": {
          "base_uri": "https://localhost:8080/",
          "height": 295
        },
        "id": "xYiQ04RwwWJd",
        "outputId": "71e95826-c9f4-446b-a9f4-e30ebdd8ec71"
      },
      "execution_count": null,
      "outputs": [
        {
          "output_type": "display_data",
          "data": {
            "image/png": "[encoded data removed]",
            "text/plain": [
              "<Figure size 432x288 with 1 Axes>"
            ]
          },
          "metadata": {
            "needs_background": "light"
          }
        }
      ]
    },
    {
      "cell_type": "code",
      "source": [
        ""
      ],
      "metadata": {
        "id": "FFMaKR-DwaDa"
      },
      "execution_count": null,
      "outputs": []
    }
  ]
}